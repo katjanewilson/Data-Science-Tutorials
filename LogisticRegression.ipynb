{
  "nbformat": 4,
  "nbformat_minor": 0,
  "metadata": {
    "colab": {
      "name": "LogisticRegression.ipynb",
      "provenance": [],
      "authorship_tag": "ABX9TyMEecIyrJGVh4RR9rX6NDog"
    },
    "kernelspec": {
      "name": "python3",
      "display_name": "Python 3"
    }
  },
  "cells": [
    {
      "cell_type": "code",
      "metadata": {
        "id": "imxZOMG7OR3m",
        "colab_type": "code",
        "outputId": "c5e7f0b6-85ee-4678-a02f-d3f7167d0624",
        "colab": {
          "base_uri": "https://localhost:8080/",
          "height": 207
        }
      },
      "source": [
        "! pip install spotipy\n",
        "import spotipy\n",
        "import spotipy.util as util\n",
        "import pandas as pd # for later\n",
        "import numpy as np\n",
        "\n",
        "import spotipy\n",
        "from spotipy.oauth2 import SpotifyClientCredentials\n",
        "cid = 'bececbd52aed4495a36e543a6c51333f'\n",
        "secret = 'e373c7be1cb84420a732b016d7a8f878'\n",
        "client_credentials_manager = SpotifyClientCredentials(client_id=cid, client_secret=secret)\n",
        "sp = spotipy.Spotify(client_credentials_manager\n",
        "=\n",
        "client_credentials_manager)\n"
      ],
      "execution_count": 0,
      "outputs": [
        {
          "output_type": "stream",
          "text": [
            "Collecting spotipy\n",
            "  Downloading https://files.pythonhosted.org/packages/b2/67/ea788ae3d7e3aad0b0ef72a4f5b6c24c1dbb3db83fd57efc221f86b4fe87/spotipy-2.12.0-py3-none-any.whl\n",
            "Requirement already satisfied: requests>=2.20.0 in /usr/local/lib/python3.6/dist-packages (from spotipy) (2.23.0)\n",
            "Requirement already satisfied: six>=1.10.0 in /usr/local/lib/python3.6/dist-packages (from spotipy) (1.12.0)\n",
            "Requirement already satisfied: chardet<4,>=3.0.2 in /usr/local/lib/python3.6/dist-packages (from requests>=2.20.0->spotipy) (3.0.4)\n",
            "Requirement already satisfied: idna<3,>=2.5 in /usr/local/lib/python3.6/dist-packages (from requests>=2.20.0->spotipy) (2.9)\n",
            "Requirement already satisfied: urllib3!=1.25.0,!=1.25.1,<1.26,>=1.21.1 in /usr/local/lib/python3.6/dist-packages (from requests>=2.20.0->spotipy) (1.24.3)\n",
            "Requirement already satisfied: certifi>=2017.4.17 in /usr/local/lib/python3.6/dist-packages (from requests>=2.20.0->spotipy) (2020.4.5.1)\n",
            "Installing collected packages: spotipy\n",
            "Successfully installed spotipy-2.12.0\n"
          ],
          "name": "stdout"
        }
      ]
    },
    {
      "cell_type": "code",
      "metadata": {
        "id": "0nr2IkvQd6FX",
        "colab_type": "code",
        "outputId": "42f8330a-6bc2-4f20-8d20-f1c6c5133d73",
        "colab": {
          "base_uri": "https://localhost:8080/",
          "height": 548
        }
      },
      "source": [
        "from google.colab import drive\n",
        "drive.mount('drive')"
      ],
      "execution_count": 0,
      "outputs": [
        {
          "output_type": "error",
          "ename": "KeyboardInterrupt",
          "evalue": "ignored",
          "traceback": [
            "\u001b[0;31m---------------------------------------------------------------------------\u001b[0m",
            "\u001b[0;31mKeyboardInterrupt\u001b[0m                         Traceback (most recent call last)",
            "\u001b[0;32m/usr/local/lib/python3.6/dist-packages/ipykernel/kernelbase.py\u001b[0m in \u001b[0;36m_input_request\u001b[0;34m(self, prompt, ident, parent, password)\u001b[0m\n\u001b[1;32m    728\u001b[0m             \u001b[0;32mtry\u001b[0m\u001b[0;34m:\u001b[0m\u001b[0;34m\u001b[0m\u001b[0;34m\u001b[0m\u001b[0m\n\u001b[0;32m--> 729\u001b[0;31m                 \u001b[0mident\u001b[0m\u001b[0;34m,\u001b[0m \u001b[0mreply\u001b[0m \u001b[0;34m=\u001b[0m \u001b[0mself\u001b[0m\u001b[0;34m.\u001b[0m\u001b[0msession\u001b[0m\u001b[0;34m.\u001b[0m\u001b[0mrecv\u001b[0m\u001b[0;34m(\u001b[0m\u001b[0mself\u001b[0m\u001b[0;34m.\u001b[0m\u001b[0mstdin_socket\u001b[0m\u001b[0;34m,\u001b[0m \u001b[0;36m0\u001b[0m\u001b[0;34m)\u001b[0m\u001b[0;34m\u001b[0m\u001b[0;34m\u001b[0m\u001b[0m\n\u001b[0m\u001b[1;32m    730\u001b[0m             \u001b[0;32mexcept\u001b[0m \u001b[0mException\u001b[0m\u001b[0;34m:\u001b[0m\u001b[0;34m\u001b[0m\u001b[0;34m\u001b[0m\u001b[0m\n",
            "\u001b[0;32m/usr/local/lib/python3.6/dist-packages/jupyter_client/session.py\u001b[0m in \u001b[0;36mrecv\u001b[0;34m(self, socket, mode, content, copy)\u001b[0m\n\u001b[1;32m    802\u001b[0m         \u001b[0;32mtry\u001b[0m\u001b[0;34m:\u001b[0m\u001b[0;34m\u001b[0m\u001b[0;34m\u001b[0m\u001b[0m\n\u001b[0;32m--> 803\u001b[0;31m             \u001b[0mmsg_list\u001b[0m \u001b[0;34m=\u001b[0m \u001b[0msocket\u001b[0m\u001b[0;34m.\u001b[0m\u001b[0mrecv_multipart\u001b[0m\u001b[0;34m(\u001b[0m\u001b[0mmode\u001b[0m\u001b[0;34m,\u001b[0m \u001b[0mcopy\u001b[0m\u001b[0;34m=\u001b[0m\u001b[0mcopy\u001b[0m\u001b[0;34m)\u001b[0m\u001b[0;34m\u001b[0m\u001b[0;34m\u001b[0m\u001b[0m\n\u001b[0m\u001b[1;32m    804\u001b[0m         \u001b[0;32mexcept\u001b[0m \u001b[0mzmq\u001b[0m\u001b[0;34m.\u001b[0m\u001b[0mZMQError\u001b[0m \u001b[0;32mas\u001b[0m \u001b[0me\u001b[0m\u001b[0;34m:\u001b[0m\u001b[0;34m\u001b[0m\u001b[0;34m\u001b[0m\u001b[0m\n",
            "\u001b[0;32m/usr/local/lib/python3.6/dist-packages/zmq/sugar/socket.py\u001b[0m in \u001b[0;36mrecv_multipart\u001b[0;34m(self, flags, copy, track)\u001b[0m\n\u001b[1;32m    474\u001b[0m         \"\"\"\n\u001b[0;32m--> 475\u001b[0;31m         \u001b[0mparts\u001b[0m \u001b[0;34m=\u001b[0m \u001b[0;34m[\u001b[0m\u001b[0mself\u001b[0m\u001b[0;34m.\u001b[0m\u001b[0mrecv\u001b[0m\u001b[0;34m(\u001b[0m\u001b[0mflags\u001b[0m\u001b[0;34m,\u001b[0m \u001b[0mcopy\u001b[0m\u001b[0;34m=\u001b[0m\u001b[0mcopy\u001b[0m\u001b[0;34m,\u001b[0m \u001b[0mtrack\u001b[0m\u001b[0;34m=\u001b[0m\u001b[0mtrack\u001b[0m\u001b[0;34m)\u001b[0m\u001b[0;34m]\u001b[0m\u001b[0;34m\u001b[0m\u001b[0;34m\u001b[0m\u001b[0m\n\u001b[0m\u001b[1;32m    476\u001b[0m         \u001b[0;31m# have first part already, only loop while more to receive\u001b[0m\u001b[0;34m\u001b[0m\u001b[0;34m\u001b[0m\u001b[0;34m\u001b[0m\u001b[0m\n",
            "\u001b[0;32mzmq/backend/cython/socket.pyx\u001b[0m in \u001b[0;36mzmq.backend.cython.socket.Socket.recv\u001b[0;34m()\u001b[0m\n",
            "\u001b[0;32mzmq/backend/cython/socket.pyx\u001b[0m in \u001b[0;36mzmq.backend.cython.socket.Socket.recv\u001b[0;34m()\u001b[0m\n",
            "\u001b[0;32mzmq/backend/cython/socket.pyx\u001b[0m in \u001b[0;36mzmq.backend.cython.socket._recv_copy\u001b[0;34m()\u001b[0m\n",
            "\u001b[0;32m/usr/local/lib/python3.6/dist-packages/zmq/backend/cython/checkrc.pxd\u001b[0m in \u001b[0;36mzmq.backend.cython.checkrc._check_rc\u001b[0;34m()\u001b[0m\n",
            "\u001b[0;31mKeyboardInterrupt\u001b[0m: ",
            "\nDuring handling of the above exception, another exception occurred:\n",
            "\u001b[0;31mKeyboardInterrupt\u001b[0m                         Traceback (most recent call last)",
            "\u001b[0;32m<ipython-input-2-7b0c2cba9ae5>\u001b[0m in \u001b[0;36m<module>\u001b[0;34m()\u001b[0m\n\u001b[1;32m      1\u001b[0m \u001b[0;32mfrom\u001b[0m \u001b[0mgoogle\u001b[0m\u001b[0;34m.\u001b[0m\u001b[0mcolab\u001b[0m \u001b[0;32mimport\u001b[0m \u001b[0mdrive\u001b[0m\u001b[0;34m\u001b[0m\u001b[0;34m\u001b[0m\u001b[0m\n\u001b[0;32m----> 2\u001b[0;31m \u001b[0mdrive\u001b[0m\u001b[0;34m.\u001b[0m\u001b[0mmount\u001b[0m\u001b[0;34m(\u001b[0m\u001b[0;34m'drive'\u001b[0m\u001b[0;34m)\u001b[0m\u001b[0;34m\u001b[0m\u001b[0;34m\u001b[0m\u001b[0m\n\u001b[0m",
            "\u001b[0;32m/usr/local/lib/python3.6/dist-packages/google/colab/drive.py\u001b[0m in \u001b[0;36mmount\u001b[0;34m(mountpoint, force_remount, timeout_ms, use_metadata_server)\u001b[0m\n\u001b[1;32m    236\u001b[0m       \u001b[0mauth_prompt\u001b[0m \u001b[0;34m=\u001b[0m \u001b[0md\u001b[0m\u001b[0;34m.\u001b[0m\u001b[0mmatch\u001b[0m\u001b[0;34m.\u001b[0m\u001b[0mgroup\u001b[0m\u001b[0;34m(\u001b[0m\u001b[0;36m1\u001b[0m\u001b[0;34m)\u001b[0m \u001b[0;34m+\u001b[0m \u001b[0;34m'\\nEnter your authorization code:\\n'\u001b[0m\u001b[0;34m\u001b[0m\u001b[0;34m\u001b[0m\u001b[0m\n\u001b[1;32m    237\u001b[0m       \u001b[0;32mwith\u001b[0m \u001b[0mopen\u001b[0m\u001b[0;34m(\u001b[0m\u001b[0mfifo\u001b[0m\u001b[0;34m,\u001b[0m \u001b[0;34m'w'\u001b[0m\u001b[0;34m)\u001b[0m \u001b[0;32mas\u001b[0m \u001b[0mfifo_file\u001b[0m\u001b[0;34m:\u001b[0m\u001b[0;34m\u001b[0m\u001b[0;34m\u001b[0m\u001b[0m\n\u001b[0;32m--> 238\u001b[0;31m         \u001b[0mfifo_file\u001b[0m\u001b[0;34m.\u001b[0m\u001b[0mwrite\u001b[0m\u001b[0;34m(\u001b[0m\u001b[0m_getpass\u001b[0m\u001b[0;34m.\u001b[0m\u001b[0mgetpass\u001b[0m\u001b[0;34m(\u001b[0m\u001b[0mauth_prompt\u001b[0m\u001b[0;34m)\u001b[0m \u001b[0;34m+\u001b[0m \u001b[0;34m'\\n'\u001b[0m\u001b[0;34m)\u001b[0m\u001b[0;34m\u001b[0m\u001b[0;34m\u001b[0m\u001b[0m\n\u001b[0m\u001b[1;32m    239\u001b[0m       \u001b[0mwrote_to_fifo\u001b[0m \u001b[0;34m=\u001b[0m \u001b[0;32mTrue\u001b[0m\u001b[0;34m\u001b[0m\u001b[0;34m\u001b[0m\u001b[0m\n\u001b[1;32m    240\u001b[0m   \u001b[0;32mif\u001b[0m \u001b[0;32mnot\u001b[0m \u001b[0mwrote_to_fifo\u001b[0m\u001b[0;34m:\u001b[0m\u001b[0;34m\u001b[0m\u001b[0;34m\u001b[0m\u001b[0m\n",
            "\u001b[0;32m/usr/local/lib/python3.6/dist-packages/ipykernel/kernelbase.py\u001b[0m in \u001b[0;36mgetpass\u001b[0;34m(self, prompt, stream)\u001b[0m\n\u001b[1;32m    685\u001b[0m             \u001b[0mself\u001b[0m\u001b[0;34m.\u001b[0m\u001b[0m_parent_ident\u001b[0m\u001b[0;34m,\u001b[0m\u001b[0;34m\u001b[0m\u001b[0;34m\u001b[0m\u001b[0m\n\u001b[1;32m    686\u001b[0m             \u001b[0mself\u001b[0m\u001b[0;34m.\u001b[0m\u001b[0m_parent_header\u001b[0m\u001b[0;34m,\u001b[0m\u001b[0;34m\u001b[0m\u001b[0;34m\u001b[0m\u001b[0m\n\u001b[0;32m--> 687\u001b[0;31m             \u001b[0mpassword\u001b[0m\u001b[0;34m=\u001b[0m\u001b[0;32mTrue\u001b[0m\u001b[0;34m,\u001b[0m\u001b[0;34m\u001b[0m\u001b[0;34m\u001b[0m\u001b[0m\n\u001b[0m\u001b[1;32m    688\u001b[0m         )\n\u001b[1;32m    689\u001b[0m \u001b[0;34m\u001b[0m\u001b[0m\n",
            "\u001b[0;32m/usr/local/lib/python3.6/dist-packages/ipykernel/kernelbase.py\u001b[0m in \u001b[0;36m_input_request\u001b[0;34m(self, prompt, ident, parent, password)\u001b[0m\n\u001b[1;32m    732\u001b[0m             \u001b[0;32mexcept\u001b[0m \u001b[0mKeyboardInterrupt\u001b[0m\u001b[0;34m:\u001b[0m\u001b[0;34m\u001b[0m\u001b[0;34m\u001b[0m\u001b[0m\n\u001b[1;32m    733\u001b[0m                 \u001b[0;31m# re-raise KeyboardInterrupt, to truncate traceback\u001b[0m\u001b[0;34m\u001b[0m\u001b[0;34m\u001b[0m\u001b[0;34m\u001b[0m\u001b[0m\n\u001b[0;32m--> 734\u001b[0;31m                 \u001b[0;32mraise\u001b[0m \u001b[0mKeyboardInterrupt\u001b[0m\u001b[0;34m\u001b[0m\u001b[0;34m\u001b[0m\u001b[0m\n\u001b[0m\u001b[1;32m    735\u001b[0m             \u001b[0;32melse\u001b[0m\u001b[0;34m:\u001b[0m\u001b[0;34m\u001b[0m\u001b[0;34m\u001b[0m\u001b[0m\n\u001b[1;32m    736\u001b[0m                 \u001b[0;32mbreak\u001b[0m\u001b[0;34m\u001b[0m\u001b[0;34m\u001b[0m\u001b[0m\n",
            "\u001b[0;31mKeyboardInterrupt\u001b[0m: "
          ]
        }
      ]
    },
    {
      "cell_type": "code",
      "metadata": {
        "id": "VAtPl4iseCuj",
        "colab_type": "code",
        "outputId": "267e3063-3d4b-41c1-d130-390ed73bfcf3",
        "colab": {
          "base_uri": "https://localhost:8080/",
          "height": 201
        }
      },
      "source": [
        "playlist_data.to_csv('logistic_regression_data.csv')\n",
        "!cp data.csv \"drive/My Drive/\""
      ],
      "execution_count": 0,
      "outputs": [
        {
          "output_type": "error",
          "ename": "NameError",
          "evalue": "ignored",
          "traceback": [
            "\u001b[0;31m---------------------------------------------------------------------------\u001b[0m",
            "\u001b[0;31mNameError\u001b[0m                                 Traceback (most recent call last)",
            "\u001b[0;32m<ipython-input-3-f4774740fe3a>\u001b[0m in \u001b[0;36m<module>\u001b[0;34m()\u001b[0m\n\u001b[0;32m----> 1\u001b[0;31m \u001b[0mplaylist_data\u001b[0m\u001b[0;34m.\u001b[0m\u001b[0mto_csv\u001b[0m\u001b[0;34m(\u001b[0m\u001b[0;34m'logistic_regression_data.csv'\u001b[0m\u001b[0;34m)\u001b[0m\u001b[0;34m\u001b[0m\u001b[0;34m\u001b[0m\u001b[0m\n\u001b[0m\u001b[1;32m      2\u001b[0m \u001b[0mget_ipython\u001b[0m\u001b[0;34m(\u001b[0m\u001b[0;34m)\u001b[0m\u001b[0;34m.\u001b[0m\u001b[0msystem\u001b[0m\u001b[0;34m(\u001b[0m\u001b[0;34m'cp data.csv \"drive/My Drive/\"'\u001b[0m\u001b[0;34m)\u001b[0m\u001b[0;34m\u001b[0m\u001b[0;34m\u001b[0m\u001b[0m\n",
            "\u001b[0;31mNameError\u001b[0m: name 'playlist_data' is not defined"
          ]
        }
      ]
    },
    {
      "cell_type": "code",
      "metadata": {
        "id": "Eyjo7NGGOj3r",
        "colab_type": "code",
        "colab": {}
      },
      "source": [
        "def analyze_playlist(creator, playlist_id):\n",
        "    \n",
        "    # Create empty dataframe\n",
        "    playlist_features_list = [\"artist\", \"album\", \"track_name\", \"track_id\", \n",
        "                             \"danceability\", \"energy\", \"key\", \"loudness\", \"mode\", \"speechiness\",\n",
        "                             \"instrumentalness\", \"liveness\", \"valence\", \"tempo\", \"duration_ms\", \"time_signature\"]\n",
        "    playlist_df = pd.DataFrame(columns = playlist_features_list)\n",
        "    \n",
        "    # Create empty dict\n",
        "    playlist_features = {}\n",
        "    \n",
        "    # Loop through every track in the playlist, extract features and append the features to the playlist df\n",
        "    playlist = sp.user_playlist_tracks(creator, playlist_id)[\"items\"]\n",
        "    for track in playlist:\n",
        "        # Get metadata\n",
        "        playlist_features[\"artist\"] = track[\"track\"][\"album\"][\"artists\"][0][\"name\"]\n",
        "        playlist_features[\"album\"] = track[\"track\"][\"album\"][\"name\"]\n",
        "        playlist_features[\"track_name\"] = track[\"track\"][\"name\"]\n",
        "        playlist_features[\"track_id\"] = track[\"track\"][\"id\"]\n",
        "        # Get audio features\n",
        "        audio_features = sp.audio_features(playlist_features[\"track_id\"])[0]\n",
        "        for feature in playlist_features_list[4:]:\n",
        "            playlist_features[feature] = audio_features[feature]\n",
        "        \n",
        "        # Concat the dfs\n",
        "        track_df = pd.DataFrame(playlist_features, index = [0])\n",
        "        playlist_df = pd.concat([playlist_df, track_df], ignore_index = True)\n",
        "        \n",
        "    return playlist_df"
      ],
      "execution_count": 0,
      "outputs": []
    },
    {
      "cell_type": "code",
      "metadata": {
        "id": "ZhslkqWZOgF-",
        "colab_type": "code",
        "colab": {}
      },
      "source": [
        "playlist_data = analyze_playlist(\"katdawg17\", \"5QQv14uR9NKaCIKlbVDNw8\")\n",
        "df = pd.DataFrame(playlist_data)"
      ],
      "execution_count": 0,
      "outputs": []
    },
    {
      "cell_type": "code",
      "metadata": {
        "id": "qsORpK3BdqF7",
        "colab_type": "code",
        "outputId": "a4a09586-7c3a-41cb-b46c-1bdb059500b4",
        "colab": {
          "base_uri": "https://localhost:8080/",
          "height": 779
        }
      },
      "source": [
        "playlist_data"
      ],
      "execution_count": 0,
      "outputs": [
        {
          "output_type": "execute_result",
          "data": {
            "text/html": [
              "<div>\n",
              "<style scoped>\n",
              "    .dataframe tbody tr th:only-of-type {\n",
              "        vertical-align: middle;\n",
              "    }\n",
              "\n",
              "    .dataframe tbody tr th {\n",
              "        vertical-align: top;\n",
              "    }\n",
              "\n",
              "    .dataframe thead th {\n",
              "        text-align: right;\n",
              "    }\n",
              "</style>\n",
              "<table border=\"1\" class=\"dataframe\">\n",
              "  <thead>\n",
              "    <tr style=\"text-align: right;\">\n",
              "      <th></th>\n",
              "      <th>artist</th>\n",
              "      <th>album</th>\n",
              "      <th>track_name</th>\n",
              "      <th>track_id</th>\n",
              "      <th>danceability</th>\n",
              "      <th>energy</th>\n",
              "      <th>key</th>\n",
              "      <th>loudness</th>\n",
              "      <th>mode</th>\n",
              "      <th>speechiness</th>\n",
              "      <th>instrumentalness</th>\n",
              "      <th>liveness</th>\n",
              "      <th>valence</th>\n",
              "      <th>tempo</th>\n",
              "      <th>duration_ms</th>\n",
              "      <th>time_signature</th>\n",
              "    </tr>\n",
              "  </thead>\n",
              "  <tbody>\n",
              "    <tr>\n",
              "      <th>0</th>\n",
              "      <td>The Clash</td>\n",
              "      <td>London Calling (Remastered)</td>\n",
              "      <td>London Calling - Remastered</td>\n",
              "      <td>5jzma6gCzYtKB1DbEwFZKH</td>\n",
              "      <td>0.651</td>\n",
              "      <td>0.801</td>\n",
              "      <td>0</td>\n",
              "      <td>-7.340</td>\n",
              "      <td>1</td>\n",
              "      <td>0.0513</td>\n",
              "      <td>0</td>\n",
              "      <td>0.0825</td>\n",
              "      <td>0.776</td>\n",
              "      <td>133.763</td>\n",
              "      <td>200480</td>\n",
              "      <td>4</td>\n",
              "    </tr>\n",
              "    <tr>\n",
              "      <th>1</th>\n",
              "      <td>The Clash</td>\n",
              "      <td>London Calling (Remastered)</td>\n",
              "      <td>Brand New Cadillac - Remastered</td>\n",
              "      <td>7FYkZkF9fog6WS818wJnhl</td>\n",
              "      <td>0.520</td>\n",
              "      <td>0.906</td>\n",
              "      <td>9</td>\n",
              "      <td>-6.534</td>\n",
              "      <td>1</td>\n",
              "      <td>0.0601</td>\n",
              "      <td>7.96e-05</td>\n",
              "      <td>0.0925</td>\n",
              "      <td>0.868</td>\n",
              "      <td>151.606</td>\n",
              "      <td>128267</td>\n",
              "      <td>4</td>\n",
              "    </tr>\n",
              "    <tr>\n",
              "      <th>2</th>\n",
              "      <td>The Clash</td>\n",
              "      <td>London Calling (Remastered)</td>\n",
              "      <td>Jimmy Jazz - Remastered</td>\n",
              "      <td>06JxwPA4WAg0LWADJtaldL</td>\n",
              "      <td>0.528</td>\n",
              "      <td>0.397</td>\n",
              "      <td>9</td>\n",
              "      <td>-12.024</td>\n",
              "      <td>1</td>\n",
              "      <td>0.0927</td>\n",
              "      <td>3.64e-06</td>\n",
              "      <td>0.4300</td>\n",
              "      <td>0.579</td>\n",
              "      <td>128.414</td>\n",
              "      <td>234333</td>\n",
              "      <td>4</td>\n",
              "    </tr>\n",
              "    <tr>\n",
              "      <th>3</th>\n",
              "      <td>The Clash</td>\n",
              "      <td>London Calling (Remastered)</td>\n",
              "      <td>Hateful - Remastered</td>\n",
              "      <td>2FNsNZjUQg3bhx5dWW0pRs</td>\n",
              "      <td>0.595</td>\n",
              "      <td>0.860</td>\n",
              "      <td>7</td>\n",
              "      <td>-6.723</td>\n",
              "      <td>1</td>\n",
              "      <td>0.0524</td>\n",
              "      <td>0</td>\n",
              "      <td>0.4820</td>\n",
              "      <td>0.673</td>\n",
              "      <td>114.112</td>\n",
              "      <td>163933</td>\n",
              "      <td>4</td>\n",
              "    </tr>\n",
              "    <tr>\n",
              "      <th>4</th>\n",
              "      <td>The Clash</td>\n",
              "      <td>London Calling (Remastered)</td>\n",
              "      <td>Rudie Can't Fail - Remastered</td>\n",
              "      <td>4W9zZsQKsqikYbKM9vcN5Q</td>\n",
              "      <td>0.636</td>\n",
              "      <td>0.684</td>\n",
              "      <td>6</td>\n",
              "      <td>-9.370</td>\n",
              "      <td>0</td>\n",
              "      <td>0.0594</td>\n",
              "      <td>0</td>\n",
              "      <td>0.0402</td>\n",
              "      <td>0.684</td>\n",
              "      <td>96.988</td>\n",
              "      <td>208867</td>\n",
              "      <td>4</td>\n",
              "    </tr>\n",
              "    <tr>\n",
              "      <th>...</th>\n",
              "      <td>...</td>\n",
              "      <td>...</td>\n",
              "      <td>...</td>\n",
              "      <td>...</td>\n",
              "      <td>...</td>\n",
              "      <td>...</td>\n",
              "      <td>...</td>\n",
              "      <td>...</td>\n",
              "      <td>...</td>\n",
              "      <td>...</td>\n",
              "      <td>...</td>\n",
              "      <td>...</td>\n",
              "      <td>...</td>\n",
              "      <td>...</td>\n",
              "      <td>...</td>\n",
              "      <td>...</td>\n",
              "    </tr>\n",
              "    <tr>\n",
              "      <th>95</th>\n",
              "      <td>The Clash</td>\n",
              "      <td>Combat Rock (Remastered)</td>\n",
              "      <td>Car Jamming - Remastered</td>\n",
              "      <td>3QcqUffnkbQGWJlfyaT3yF</td>\n",
              "      <td>0.691</td>\n",
              "      <td>0.729</td>\n",
              "      <td>2</td>\n",
              "      <td>-7.717</td>\n",
              "      <td>0</td>\n",
              "      <td>0.0412</td>\n",
              "      <td>0</td>\n",
              "      <td>0.1190</td>\n",
              "      <td>0.810</td>\n",
              "      <td>92.769</td>\n",
              "      <td>239813</td>\n",
              "      <td>4</td>\n",
              "    </tr>\n",
              "    <tr>\n",
              "      <th>96</th>\n",
              "      <td>The Clash</td>\n",
              "      <td>Combat Rock (Remastered)</td>\n",
              "      <td>Should I Stay or Should I Go - Remastered</td>\n",
              "      <td>39shmbIHICJ2Wxnk1fPSdz</td>\n",
              "      <td>0.742</td>\n",
              "      <td>0.833</td>\n",
              "      <td>2</td>\n",
              "      <td>-6.463</td>\n",
              "      <td>1</td>\n",
              "      <td>0.1150</td>\n",
              "      <td>0</td>\n",
              "      <td>0.3840</td>\n",
              "      <td>0.816</td>\n",
              "      <td>113.375</td>\n",
              "      <td>188987</td>\n",
              "      <td>4</td>\n",
              "    </tr>\n",
              "    <tr>\n",
              "      <th>97</th>\n",
              "      <td>The Clash</td>\n",
              "      <td>Combat Rock (Remastered)</td>\n",
              "      <td>Rock the Casbah - Remastered</td>\n",
              "      <td>56KqaFSGTb7ifpt16t5Y1N</td>\n",
              "      <td>0.796</td>\n",
              "      <td>0.872</td>\n",
              "      <td>9</td>\n",
              "      <td>-6.722</td>\n",
              "      <td>0</td>\n",
              "      <td>0.0573</td>\n",
              "      <td>0</td>\n",
              "      <td>0.2840</td>\n",
              "      <td>0.866</td>\n",
              "      <td>129.894</td>\n",
              "      <td>222427</td>\n",
              "      <td>4</td>\n",
              "    </tr>\n",
              "    <tr>\n",
              "      <th>98</th>\n",
              "      <td>The Clash</td>\n",
              "      <td>Combat Rock (Remastered)</td>\n",
              "      <td>Red Angel Dragnet - Remastered</td>\n",
              "      <td>3AySFupxPGQWjauQfFXcr0</td>\n",
              "      <td>0.759</td>\n",
              "      <td>0.729</td>\n",
              "      <td>0</td>\n",
              "      <td>-8.654</td>\n",
              "      <td>1</td>\n",
              "      <td>0.1430</td>\n",
              "      <td>0</td>\n",
              "      <td>0.2750</td>\n",
              "      <td>0.681</td>\n",
              "      <td>138.545</td>\n",
              "      <td>224240</td>\n",
              "      <td>4</td>\n",
              "    </tr>\n",
              "    <tr>\n",
              "      <th>99</th>\n",
              "      <td>The Clash</td>\n",
              "      <td>Combat Rock (Remastered)</td>\n",
              "      <td>Straight to Hell - Remastered</td>\n",
              "      <td>2ax1vei61BzRGsEn6ckEdL</td>\n",
              "      <td>0.802</td>\n",
              "      <td>0.595</td>\n",
              "      <td>7</td>\n",
              "      <td>-11.662</td>\n",
              "      <td>1</td>\n",
              "      <td>0.0607</td>\n",
              "      <td>1.14e-05</td>\n",
              "      <td>0.0695</td>\n",
              "      <td>0.708</td>\n",
              "      <td>90.273</td>\n",
              "      <td>330507</td>\n",
              "      <td>4</td>\n",
              "    </tr>\n",
              "  </tbody>\n",
              "</table>\n",
              "<p>100 rows × 16 columns</p>\n",
              "</div>"
            ],
            "text/plain": [
              "       artist                        album  ... duration_ms time_signature\n",
              "0   The Clash  London Calling (Remastered)  ...      200480              4\n",
              "1   The Clash  London Calling (Remastered)  ...      128267              4\n",
              "2   The Clash  London Calling (Remastered)  ...      234333              4\n",
              "3   The Clash  London Calling (Remastered)  ...      163933              4\n",
              "4   The Clash  London Calling (Remastered)  ...      208867              4\n",
              "..        ...                          ...  ...         ...            ...\n",
              "95  The Clash     Combat Rock (Remastered)  ...      239813              4\n",
              "96  The Clash     Combat Rock (Remastered)  ...      188987              4\n",
              "97  The Clash     Combat Rock (Remastered)  ...      222427              4\n",
              "98  The Clash     Combat Rock (Remastered)  ...      224240              4\n",
              "99  The Clash     Combat Rock (Remastered)  ...      330507              4\n",
              "\n",
              "[100 rows x 16 columns]"
            ]
          },
          "metadata": {
            "tags": []
          },
          "execution_count": 6
        }
      ]
    },
    {
      "cell_type": "code",
      "metadata": {
        "id": "zrTXO-b4OpGs",
        "colab_type": "code",
        "outputId": "0d0fee54-7615-454d-f40c-ac163d3341ae",
        "colab": {
          "base_uri": "https://localhost:8080/",
          "height": 196
        }
      },
      "source": [
        "means = df.groupby(['artist']).mean()\n",
        "means"
      ],
      "execution_count": 0,
      "outputs": [
        {
          "output_type": "execute_result",
          "data": {
            "text/html": [
              "<div>\n",
              "<style scoped>\n",
              "    .dataframe tbody tr th:only-of-type {\n",
              "        vertical-align: middle;\n",
              "    }\n",
              "\n",
              "    .dataframe tbody tr th {\n",
              "        vertical-align: top;\n",
              "    }\n",
              "\n",
              "    .dataframe thead th {\n",
              "        text-align: right;\n",
              "    }\n",
              "</style>\n",
              "<table border=\"1\" class=\"dataframe\">\n",
              "  <thead>\n",
              "    <tr style=\"text-align: right;\">\n",
              "      <th></th>\n",
              "      <th>danceability</th>\n",
              "      <th>energy</th>\n",
              "      <th>loudness</th>\n",
              "      <th>speechiness</th>\n",
              "      <th>liveness</th>\n",
              "      <th>valence</th>\n",
              "      <th>tempo</th>\n",
              "    </tr>\n",
              "    <tr>\n",
              "      <th>artist</th>\n",
              "      <th></th>\n",
              "      <th></th>\n",
              "      <th></th>\n",
              "      <th></th>\n",
              "      <th></th>\n",
              "      <th></th>\n",
              "      <th></th>\n",
              "    </tr>\n",
              "  </thead>\n",
              "  <tbody>\n",
              "    <tr>\n",
              "      <th>Jack Johnson</th>\n",
              "      <td>0.784357</td>\n",
              "      <td>0.418643</td>\n",
              "      <td>-10.377571</td>\n",
              "      <td>0.053079</td>\n",
              "      <td>0.211286</td>\n",
              "      <td>0.581000</td>\n",
              "      <td>105.621786</td>\n",
              "    </tr>\n",
              "    <tr>\n",
              "      <th>The Clash</th>\n",
              "      <td>0.539500</td>\n",
              "      <td>0.769849</td>\n",
              "      <td>-9.058802</td>\n",
              "      <td>0.218733</td>\n",
              "      <td>0.494238</td>\n",
              "      <td>0.637721</td>\n",
              "      <td>127.670430</td>\n",
              "    </tr>\n",
              "  </tbody>\n",
              "</table>\n",
              "</div>"
            ],
            "text/plain": [
              "              danceability    energy   loudness  ...  liveness   valence       tempo\n",
              "artist                                           ...                                \n",
              "Jack Johnson      0.784357  0.418643 -10.377571  ...  0.211286  0.581000  105.621786\n",
              "The Clash         0.539500  0.769849  -9.058802  ...  0.494238  0.637721  127.670430\n",
              "\n",
              "[2 rows x 7 columns]"
            ]
          },
          "metadata": {
            "tags": []
          },
          "execution_count": 7
        }
      ]
    },
    {
      "cell_type": "code",
      "metadata": {
        "id": "LYr5XUuhQF2k",
        "colab_type": "code",
        "colab": {}
      },
      "source": [
        "import itertools\n",
        "import numpy as np\n",
        "import matplotlib.pyplot as plt\n",
        "from matplotlib.ticker import NullFormatter\n",
        "import pandas as pd\n",
        "import numpy as np\n",
        "import matplotlib.ticker as ticker\n",
        "from sklearn import preprocessing\n",
        "%matplotlib inline"
      ],
      "execution_count": 0,
      "outputs": []
    },
    {
      "cell_type": "code",
      "metadata": {
        "id": "TDY4NBbiQG0S",
        "colab_type": "code",
        "outputId": "2014b44b-245c-4164-92ee-25a742603e52",
        "colab": {
          "base_uri": "https://localhost:8080/",
          "height": 187
        }
      },
      "source": [
        "X_stand = df[['danceability', 'energy', 'key', 'loudness', 'speechiness', 'instrumentalness']]\n",
        "X_stand = preprocessing.StandardScaler().fit(X_stand).transform(X_stand)\n",
        "X_stand[0:5]"
      ],
      "execution_count": 0,
      "outputs": [
        {
          "output_type": "execute_result",
          "data": {
            "text/plain": [
              "array([[ 0.45019978,  0.36540232, -1.59883776,  0.48542705, -0.49767783,\n",
              "        -0.19843519],\n",
              "       [-0.3135424 ,  0.84308215,  0.96157858,  0.69097923, -0.467315  ,\n",
              "        -0.19625429],\n",
              "       [-0.26690166, -1.47252769,  0.96157858, -0.70912189, -0.35483452,\n",
              "        -0.19833546],\n",
              "       [ 0.12371457,  0.63381289,  0.39259717,  0.64277903, -0.49388248,\n",
              "        -0.19843519],\n",
              "       [ 0.36274838, -0.16686949,  0.10810647, -0.03227883, -0.46973023,\n",
              "        -0.19843519]])"
            ]
          },
          "metadata": {
            "tags": []
          },
          "execution_count": 9
        }
      ]
    },
    {
      "cell_type": "code",
      "metadata": {
        "id": "biwz4wL1QK5h",
        "colab_type": "code",
        "colab": {}
      },
      "source": [
        "y = df['artist'].values\n",
        "y[0:5]\n",
        "type(y)"
      ],
      "execution_count": 0,
      "outputs": []
    },
    {
      "cell_type": "code",
      "metadata": {
        "id": "QjNk3KcIQ5FE",
        "colab_type": "code",
        "outputId": "10f2fff7-0434-4e89-ed3c-91617bb94c02",
        "colab": {
          "base_uri": "https://localhost:8080/",
          "height": 51
        }
      },
      "source": [
        "###logistic regression model\n",
        "\n",
        "from sklearn.model_selection import train_test_split\n",
        "X_train, X_test, y_train, y_test = train_test_split(X_stand, y, test_size = 0.2,\n",
        "                                                    random_state = 4)\n",
        "print ('Train set:', X_train.shape,  y_train.shape)\n",
        "print ('Test set:', X_test.shape,  y_test.shape)"
      ],
      "execution_count": 0,
      "outputs": [
        {
          "output_type": "stream",
          "text": [
            "Train set: (80, 6) (80,)\n",
            "Test set: (20, 6) (20,)\n"
          ],
          "name": "stdout"
        }
      ]
    },
    {
      "cell_type": "code",
      "metadata": {
        "id": "8wqAbVfIQ8_Q",
        "colab_type": "code",
        "colab": {}
      },
      "source": [
        "## build the logistic regresion model using sci-kit learn\n",
        "\n",
        "from sklearn.linear_model import LogisticRegression\n",
        "from sklearn.metrics import confusion_matrix\n",
        "LR = LogisticRegression(C=0.01, solver = 'liblinear').fit(X_train,y_train)"
      ],
      "execution_count": 0,
      "outputs": []
    },
    {
      "cell_type": "code",
      "metadata": {
        "id": "HTMnfn0gQ--0",
        "colab_type": "code",
        "outputId": "f858a356-3ac1-47da-d76f-e359f92a34b6",
        "colab": {
          "base_uri": "https://localhost:8080/",
          "height": 122
        }
      },
      "source": [
        "## predict using the test set\n",
        "\n",
        "yhat = LR.predict(X_test)\n",
        "yhat"
      ],
      "execution_count": 0,
      "outputs": [
        {
          "output_type": "execute_result",
          "data": {
            "text/plain": [
              "array(['Jack Johnson', 'The Clash', 'The Clash', 'The Clash', 'The Clash',\n",
              "       'The Clash', 'The Clash', 'The Clash', 'The Clash', 'The Clash',\n",
              "       'The Clash', 'The Clash', 'The Clash', 'Jack Johnson', 'The Clash',\n",
              "       'The Clash', 'The Clash', 'Jack Johnson', 'The Clash', 'The Clash'],\n",
              "      dtype=object)"
            ]
          },
          "metadata": {
            "tags": []
          },
          "execution_count": 13
        }
      ]
    },
    {
      "cell_type": "code",
      "metadata": {
        "id": "ihOsb7B2RCCr",
        "colab_type": "code",
        "colab": {}
      },
      "source": [
        "yhat_prob = LR.predict_proba(X_test)\n",
        "##don't print ... but this gives you the probability estimates for each class"
      ],
      "execution_count": 0,
      "outputs": []
    },
    {
      "cell_type": "code",
      "metadata": {
        "id": "Ztu2YFGzSygg",
        "colab_type": "code",
        "colab": {}
      },
      "source": [
        "from sklearn.metrics import classification_report"
      ],
      "execution_count": 0,
      "outputs": []
    },
    {
      "cell_type": "code",
      "metadata": {
        "id": "o_YBs1piTBJW",
        "colab_type": "code",
        "outputId": "929e9406-7983-491e-d493-7d9e938c32a0",
        "colab": {
          "base_uri": "https://localhost:8080/",
          "height": 170
        }
      },
      "source": [
        "print(classification_report(y_test, yhat))"
      ],
      "execution_count": 0,
      "outputs": [
        {
          "output_type": "stream",
          "text": [
            "              precision    recall  f1-score   support\n",
            "\n",
            "Jack Johnson       1.00      0.75      0.86         4\n",
            "   The Clash       0.94      1.00      0.97        16\n",
            "\n",
            "    accuracy                           0.95        20\n",
            "   macro avg       0.97      0.88      0.91        20\n",
            "weighted avg       0.95      0.95      0.95        20\n",
            "\n"
          ],
          "name": "stdout"
        }
      ]
    },
    {
      "cell_type": "code",
      "metadata": {
        "id": "Wb0HumkARDjb",
        "colab_type": "code",
        "outputId": "3fdeb30f-6d8a-4eb5-e769-cd14e61ba5d8",
        "colab": {
          "base_uri": "https://localhost:8080/",
          "height": 88
        }
      },
      "source": [
        "## evaluation of the model\n",
        "#1 jaccard index\n",
        "#outcome of .78 is pretty high\n",
        "\n",
        "from sklearn.metrics import jaccard_similarity_score\n",
        "jaccard_similarity_score(y_test, yhat)"
      ],
      "execution_count": 0,
      "outputs": [
        {
          "output_type": "stream",
          "text": [
            "/usr/local/lib/python3.6/dist-packages/sklearn/metrics/_classification.py:664: FutureWarning: jaccard_similarity_score has been deprecated and replaced with jaccard_score. It will be removed in version 0.23. This implementation has surprising behavior for binary and multiclass classification tasks.\n",
            "  FutureWarning)\n"
          ],
          "name": "stderr"
        },
        {
          "output_type": "execute_result",
          "data": {
            "text/plain": [
              "0.95"
            ]
          },
          "metadata": {
            "tags": []
          },
          "execution_count": 17
        }
      ]
    },
    {
      "cell_type": "code",
      "metadata": {
        "id": "fGHFaZE_RGJs",
        "colab_type": "code",
        "colab": {}
      },
      "source": [
        "## evaluation of the model\n",
        "\n",
        "#2 confusion matrix\n",
        "\n",
        "from sklearn.metrics import classification_report, confusion_matrix\n",
        "import itertools\n",
        "def plot_confusion_matrix(cm, classes,\n",
        "                          normalize=False,\n",
        "                          title='Confusion matrix',\n",
        "                          cmap=plt.cm.Blues):\n",
        "    \"\"\"\n",
        "    This function prints and plots the confusion matrix.\n",
        "    Normalization can be applied by setting `normalize=True`.\n",
        "    \"\"\"\n",
        "    if normalize:\n",
        "        cm = cm.astype('float') / cm.sum(axis=1)[:, np.newaxis]\n",
        "        print(\"Normalized confusion matrix\")\n",
        "    else:\n",
        "        print('Confusion matrix, without normalization')\n",
        "\n",
        "    print(cm)"
      ],
      "execution_count": 0,
      "outputs": []
    },
    {
      "cell_type": "code",
      "metadata": {
        "id": "3Y8JXsAWRIM9",
        "colab_type": "code",
        "colab": {}
      },
      "source": [
        "from sklearn.metrics import classification_report, confusion_matrix\n",
        "import itertools\n",
        "def plot_confusion_matrix(cm, classes,\n",
        "                          normalize=False,\n",
        "                          title='Confusion matrix',\n",
        "                          cmap=plt.cm.Blues):\n",
        "    \"\"\"\n",
        "    This function prints and plots the confusion matrix.\n",
        "    Normalization can be applied by setting `normalize=True`.\n",
        "    \"\"\"\n",
        "    if normalize:\n",
        "        cm = cm.astype('float') / cm.sum(axis=1)[:, np.newaxis]\n",
        "        print(\"Normalized confusion matrix\")\n",
        "    else:\n",
        "        print('Confusion matrix, without normalization')\n",
        "\n",
        "    print(cm)\n",
        "\n",
        "    plt.imshow(cm, interpolation='nearest', cmap=cmap)\n",
        "    plt.title(title)\n",
        "    plt.colorbar()\n",
        "    tick_marks = np.arange(len(classes))\n",
        "    plt.xticks(tick_marks, classes, rotation=45)\n",
        "    plt.yticks(tick_marks, classes)\n",
        "\n",
        "    fmt = '.2f' if normalize else 'd'\n",
        "    thresh = cm.max() / 2.\n",
        "    for i, j in itertools.product(range(cm.shape[0]), range(cm.shape[1])):\n",
        "        plt.text(j, i, format(cm[i, j], fmt),\n",
        "                 horizontalalignment=\"center\",\n",
        "                 color=\"white\" if cm[i, j] > thresh else \"black\")\n",
        "\n",
        "    plt.tight_layout()\n",
        "    plt.ylabel('True label')\n",
        "    plt.xlabel('Predicted label')"
      ],
      "execution_count": 0,
      "outputs": []
    },
    {
      "cell_type": "code",
      "metadata": {
        "id": "gJfsymxoRKXm",
        "colab_type": "code",
        "outputId": "27a205ea-a303-46cb-a3e3-31c564cad85d",
        "colab": {
          "base_uri": "https://localhost:8080/",
          "height": 51
        }
      },
      "source": [
        "print(confusion_matrix(y_test, yhat, labels=[\"The Clash\",\"Jack Johnson\"]))"
      ],
      "execution_count": 0,
      "outputs": [
        {
          "output_type": "stream",
          "text": [
            "[[16  0]\n",
            " [ 1  3]]\n"
          ],
          "name": "stdout"
        }
      ]
    },
    {
      "cell_type": "code",
      "metadata": {
        "id": "SJ76o7KvRRvg",
        "colab_type": "code",
        "outputId": "dc969a66-ca46-4438-efe6-cfdde33cec22",
        "colab": {
          "base_uri": "https://localhost:8080/",
          "height": 51
        }
      },
      "source": [
        "cnf_matrix = confusion_matrix(y_test, yhat)\n",
        "print(cnf_matrix)"
      ],
      "execution_count": 0,
      "outputs": [
        {
          "output_type": "stream",
          "text": [
            "[[ 3  1]\n",
            " [ 0 16]]\n"
          ],
          "name": "stdout"
        }
      ]
    },
    {
      "cell_type": "code",
      "metadata": {
        "id": "8zLIEv1iRTeQ",
        "colab_type": "code",
        "outputId": "789c564c-ab9a-4b9b-de7e-ab17114e6c64",
        "colab": {
          "base_uri": "https://localhost:8080/",
          "height": 348
        }
      },
      "source": [
        "np.set_printoptions(precision=2)\n",
        "plt.figure(figsize = (4,4))\n",
        "plot_confusion_matrix(cnf_matrix, classes=['Jack Johnson=1','The Clash=0'],normalize= False,\n",
        "                      title='Confusion matrix')\n"
      ],
      "execution_count": 0,
      "outputs": [
        {
          "output_type": "stream",
          "text": [
            "Confusion matrix, without normalization\n",
            "[[ 3  1]\n",
            " [ 0 16]]\n"
          ],
          "name": "stdout"
        },
        {
          "output_type": "display_data",
          "data": {
            "image/png": "[encoded data removed]",
            "text/plain": [
              "<Figure size 288x288 with 2 Axes>"
            ]
          },
          "metadata": {
            "tags": [],
            "needs_background": "light"
          }
        }
      ]
    },
    {
      "cell_type": "code",
      "metadata": {
        "id": "bFy0BWBThghC",
        "colab_type": "code",
        "outputId": "540b51f4-9929-4e21-a009-148fd6bc9300",
        "colab": {
          "base_uri": "https://localhost:8080/",
          "height": 34
        }
      },
      "source": [
        "from google.colab import files\n",
        "plt.savefig(\"abc.png\")\n",
        "files.download(\"abc.png\") "
      ],
      "execution_count": 0,
      "outputs": [
        {
          "output_type": "display_data",
          "data": {
            "text/plain": [
              "<Figure size 432x288 with 0 Axes>"
            ]
          },
          "metadata": {
            "tags": []
          }
        }
      ]
    }
  ]
}